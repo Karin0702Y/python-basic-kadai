{
  "nbformat": 4,
  "nbformat_minor": 0,
  "metadata": {
    "colab": {
      "provenance": []
    },
    "kernelspec": {
      "name": "python3",
      "display_name": "Python 3"
    },
    "language_info": {
      "name": "python"
    }
  },
  "cells": [
    {
      "cell_type": "code",
      "execution_count": 22,
      "metadata": {
        "colab": {
          "base_uri": "https://localhost:8080/"
        },
        "id": "0Z4QTCZGCAdc",
        "outputId": "3d5b095f-b48a-407f-94d7-c43a853f5642"
      },
      "outputs": [
        {
          "output_type": "stream",
          "name": "stdout",
          "text": [
            "税込価格 1100.0円\n"
          ]
        }
      ],
      "source": [
        "def price_including_tax(price:int,timestax:float):\n",
        "    # 第1引数に商品の金額（price、整数型）、第2引数に消費税（tax_rate、浮動小数点型）\n",
        "    tax_rate=timestax/100\n",
        "    tax_included = price * (1+tax_rate)\n",
        "\n",
        "    return tax_included\n",
        "\n",
        "total = price_including_tax(1000,10)\n",
        "\n",
        "print(f\"税込価格 {total}円\")"
      ]
    }
  ]
}