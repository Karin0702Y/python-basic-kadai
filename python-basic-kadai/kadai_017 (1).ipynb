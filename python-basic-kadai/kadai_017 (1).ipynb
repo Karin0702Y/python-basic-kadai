{
  "nbformat": 4,
  "nbformat_minor": 0,
  "metadata": {
    "colab": {
      "provenance": []
    },
    "kernelspec": {
      "name": "python3",
      "display_name": "Python 3"
    },
    "language_info": {
      "name": "python"
    }
  },
  "cells": [
    {
      "cell_type": "code",
      "execution_count": 20,
      "metadata": {
        "colab": {
          "base_uri": "https://localhost:8080/"
        },
        "id": "V5-KHclnjkQ5",
        "outputId": "5a210fc7-3ab5-480a-bcc5-375459ad7ac4"
      },
      "outputs": [
        {
          "output_type": "stream",
          "name": "stdout",
          "text": [
            "祖父さんは大人です\n",
            "祖母さんは大人です\n",
            "父さんは大人です\n",
            "母さんは大人です\n",
            "長女さんは大人です\n",
            "長男さんは大人ではありません\n",
            "次女さんは大人ではありません\n"
          ]
        }
      ],
      "source": [
        "human_data ={\"祖父\":70,\"祖母\":65,\"父\":45,\"母\":42,\"長女\":20,\"長男\":18,\"次女\":15}\n",
        "\n",
        "class Human:\n",
        "\n",
        "    def __init__(self,name,age):\n",
        "        self.name = name\n",
        "        self.age = age\n",
        "    def check_adult(self):\n",
        "        if self.age >= 20:\n",
        "            print(f\"{self.name}さんは大人です\")\n",
        "        else:\n",
        "            print(f\"{self.name}さんは大人ではありません\")\n",
        "\n",
        "for key,value in human_data.items():\n",
        "\n",
        "    human = Human(key,value)\n",
        "    human.check_adult()"
      ]
    }
  ]
}