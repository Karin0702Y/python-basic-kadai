{
  "nbformat": 4,
  "nbformat_minor": 0,
  "metadata": {
    "colab": {
      "provenance": []
    },
    "kernelspec": {
      "name": "python3",
      "display_name": "Python 3"
    },
    "language_info": {
      "name": "python"
    }
  },
  "cells": [
    {
      "cell_type": "code",
      "execution_count": 9,
      "metadata": {
        "colab": {
          "base_uri": "https://localhost:8080/"
        },
        "id": "V5-KHclnjkQ5",
        "outputId": "2226ef04-5155-4788-af45-0e1cfc55eea8"
      },
      "outputs": [
        {
          "output_type": "stream",
          "name": "stdout",
          "text": [
            "父さんは大人です\n",
            "母さんは大人です\n",
            "長男さんは大人です\n",
            "長女さんは大人ではありません\n"
          ]
        }
      ],
      "source": [
        "class Human:\n",
        "\n",
        "    def __init__(self,name,age):\n",
        "        self.name = name\n",
        "        self.age = age\n",
        "    def check_adult(self):\n",
        "        if self.age >= 20:\n",
        "            print(f\"{self.name}さんは大人です\")\n",
        "        else:\n",
        "            print(f\"{self.name}さんは大人ではありません\")\n",
        "\n",
        "father = Human(\"父\",45)\n",
        "mother = Human(\"母\",42)\n",
        "eldest_son = Human(\"長男\",20)\n",
        "eldest_daughter = Human(\"長女\",15)\n",
        "\n",
        "human = [father,mother,eldest_son,eldest_daughter]\n",
        "\n",
        "for check_human in human:\n",
        "\n",
        "    check_human.check_adult()\n"
      ]
    }
  ]
}