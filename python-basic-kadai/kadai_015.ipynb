{
  "nbformat": 4,
  "nbformat_minor": 0,
  "metadata": {
    "colab": {
      "provenance": []
    },
    "kernelspec": {
      "name": "python3",
      "display_name": "Python 3"
    },
    "language_info": {
      "name": "python"
    }
  },
  "cells": [
    {
      "cell_type": "code",
      "execution_count": 4,
      "metadata": {
        "colab": {
          "base_uri": "https://localhost:8080/"
        },
        "id": "V5-KHclnjkQ5",
        "outputId": "6cc5e0f9-5db7-40c7-d6e0-f59af6a60e1c"
      },
      "outputs": [
        {
          "output_type": "stream",
          "name": "stdout",
          "text": [
            "侍太郎\n",
            "36\n"
          ]
        }
      ],
      "source": [
        "class Human:\n",
        "\n",
        "    def __init__(self, name, age):\n",
        "        self.name = name\n",
        "        self.age = age\n",
        "\n",
        "    def  printinto(self):\n",
        "       print(self.name)\n",
        "       print(self.age)\n",
        "\n",
        "\n",
        "human = Human(\"侍太郎\", 36)\n",
        "\n",
        "human.printinto()\n",
        "\n",
        "\n"
      ]
    }
  ]
}