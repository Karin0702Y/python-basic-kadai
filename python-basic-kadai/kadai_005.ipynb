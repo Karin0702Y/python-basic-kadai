{
  "nbformat": 4,
  "nbformat_minor": 0,
  "metadata": {
    "colab": {
      "provenance": []
    },
    "kernelspec": {
      "name": "python3",
      "display_name": "Python 3"
    },
    "language_info": {
      "name": "python"
    }
  },
  "cells": [
    {
      "cell_type": "code",
      "source": [
        "top_length = 10\n",
        "bottom_length = 20\n",
        "height_length = 5\n",
        "\n",
        "area = (top_length + bottom_length) * height_length / 2\n",
        "\n",
        "\n",
        "print(str(area)+\"㎠\")"
      ],
      "metadata": {
        "colab": {
          "base_uri": "https://localhost:8080/"
        },
        "id": "2DlMstzE4gyn",
        "outputId": "52e2710a-ed77-4972-b3d3-dca8bf6c62e8"
      },
      "execution_count": 12,
      "outputs": [
        {
          "output_type": "stream",
          "name": "stdout",
          "text": [
            "75.0㎠\n"
          ]
        }
      ]
    }
  ]
}