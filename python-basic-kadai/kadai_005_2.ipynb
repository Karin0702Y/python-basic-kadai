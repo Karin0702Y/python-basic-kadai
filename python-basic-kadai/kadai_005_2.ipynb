{
  "nbformat": 4,
  "nbformat_minor": 0,
  "metadata": {
    "colab": {
      "provenance": []
    },
    "kernelspec": {
      "name": "python3",
      "display_name": "Python 3"
    },
    "language_info": {
      "name": "python"
    }
  },
  "cells": [
    {
      "cell_type": "code",
      "source": [
        "top_length = 10\n",
        "bottom_length = 20\n",
        "height_length = 5\n",
        "\n",
        "area = (top_length + bottom_length) * height_length / 2\n",
        "\n",
        "\n",
        "print(f\"台形の面積は{str(area)}㎠\")"
      ],
      "metadata": {
        "colab": {
          "base_uri": "https://localhost:8080/"
        },
        "id": "2DlMstzE4gyn",
        "outputId": "4403d081-c440-4b0b-9634-79ced8ba2148"
      },
      "execution_count": 13,
      "outputs": [
        {
          "output_type": "stream",
          "name": "stdout",
          "text": [
            "台形の面積は75.0㎠\n"
          ]
        }
      ]
    }
  ]
}