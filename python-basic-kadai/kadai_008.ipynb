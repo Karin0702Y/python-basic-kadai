{
  "nbformat": 4,
  "nbformat_minor": 0,
  "metadata": {
    "colab": {
      "provenance": []
    },
    "kernelspec": {
      "name": "python3",
      "display_name": "Python 3"
    },
    "language_info": {
      "name": "python"
    }
  },
  "cells": [
    {
      "cell_type": "code",
      "source": [
        "#変数varは手入力\n",
        "\n",
        "var = 2\n",
        "\n",
        "if var%3 == 0 and var%5 != 0:\n",
        "    print(\"Fizz\")\n",
        "\n",
        "elif var%3 != 0 and var%5 == 0:\n",
        "    print(\"Buzz\")\n",
        "\n",
        "elif var%3 == 0 and var%5 == 0:\n",
        "    print(\"FizzBuzz\")\n",
        "\n",
        "else:\n",
        "    print(var)\n"
      ],
      "metadata": {
        "colab": {
          "base_uri": "https://localhost:8080/"
        },
        "id": "vEjzlyiUr1JX",
        "outputId": "99eb2184-cc2b-43e1-9ea8-3a0b6bb776e6"
      },
      "execution_count": 56,
      "outputs": [
        {
          "output_type": "stream",
          "name": "stdout",
          "text": [
            "2\n"
          ]
        }
      ]
    }
  ]
}